{
 "cells": [
  {
   "cell_type": "code",
   "execution_count": 11,
   "id": "a52854a1-2d89-4030-94d2-dc0b69ca4290",
   "metadata": {},
   "outputs": [
    {
     "name": "stdin",
     "output_type": "stream",
     "text": [
      "Enter No. of Lowercase Characters 2\n",
      "Enter No. of Uppercase Characters 2\n",
      "Enter No. of digits 2\n",
      "Enter No. of Symbols 2\n"
     ]
    },
    {
     "name": "stdout",
     "output_type": "stream",
     "text": [
      "Password is :  BOmw&~12\n"
     ]
    }
   ],
   "source": [
    "#import libraries\n",
    "import string\n",
    "import random\n",
    "\n",
    "#taking length of the all character,symbols and digits\n",
    "lower_len = int(input(\"Enter No. of Lowercase Characters\"))\n",
    "upper_len = int(input(\"Enter No. of Uppercase Characters\"))\n",
    "digit_len = int(input(\"Enter No. of digits\"))\n",
    "symbol_len = int(input(\"Enter No. of Symbols\"))\n",
    "\n",
    "\n",
    "pwd_len=lower_len+upper_len+digit_len+symbol_len\n",
    "\n",
    "lower=string.ascii_lowercase\n",
    "upper=string.ascii_uppercase\n",
    "digit=string.digits\n",
    "symbol=string.punctuation\n",
    "\n",
    "#select random choices from the characters,symbols and digits\n",
    "str = random.choices(lower,k=lower_len)+random.choices(upper,k=upper_len)+random.choices(digit,k=digit_len)+random.choices(symbol,k=symbol_len)\n",
    "\n",
    "# it will shuffle the string \n",
    "random.shuffle(str) \n",
    "password=\"\".join(str)\n",
    "print(\"Password is : \",password)\n",
    "\n"
   ]
  },
  {
   "cell_type": "code",
   "execution_count": null,
   "id": "c7a7ff58-be0f-4895-9647-c29c1fa12dd0",
   "metadata": {},
   "outputs": [],
   "source": []
  }
 ],
 "metadata": {
  "kernelspec": {
   "display_name": "Python 3 (ipykernel)",
   "language": "python",
   "name": "python3"
  },
  "language_info": {
   "codemirror_mode": {
    "name": "ipython",
    "version": 3
   },
   "file_extension": ".py",
   "mimetype": "text/x-python",
   "name": "python",
   "nbconvert_exporter": "python",
   "pygments_lexer": "ipython3",
   "version": "3.12.4"
  }
 },
 "nbformat": 4,
 "nbformat_minor": 5
}
